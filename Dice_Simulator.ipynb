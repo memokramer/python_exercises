{
 "cells": [
  {
   "cell_type": "code",
   "execution_count": 56,
   "metadata": {},
   "outputs": [],
   "source": [
    "import numpy as np"
   ]
  },
  {
   "cell_type": "code",
   "execution_count": 127,
   "metadata": {},
   "outputs": [
    {
     "name": "stdout",
     "output_type": "stream",
     "text": [
      "cuantos dados quieres? 7\n"
     ]
    }
   ],
   "source": [
    "num_dados=int(raw_input('cuantos dados quieres? '))"
   ]
  },
  {
   "cell_type": "code",
   "execution_count": 197,
   "metadata": {},
   "outputs": [
    {
     "name": "stdout",
     "output_type": "stream",
     "text": [
      "rojo\n"
     ]
    }
   ],
   "source": [
    "colores = ['rojo', 'verde', 'azul', 'amarillo']\n",
    "numero = np.random.randint(len(colores))\n",
    "print colores[numero]"
   ]
  },
  {
   "cell_type": "code",
   "execution_count": 177,
   "metadata": {},
   "outputs": [
    {
     "name": "stdout",
     "output_type": "stream",
     "text": [
      "[[6]\n",
      " [3]\n",
      " [6]\n",
      " [3]\n",
      " [6]\n",
      " [1]\n",
      " [3]]\n"
     ]
    }
   ],
   "source": [
    "resultados = np.random.randint(7, size=(num_dados, 1)) #Collect an array of random numbers between [0-6]\n",
    "print resultados"
   ]
  },
  {
   "cell_type": "code",
   "execution_count": 203,
   "metadata": {},
   "outputs": [
    {
     "name": "stdout",
     "output_type": "stream",
     "text": [
      "Dado 1 es 6 color azul \n",
      "Dado 2 es 3 color rojo \n",
      "Dado 3 es 6 color azul \n",
      "Dado 4 es 3 color azul \n",
      "Dado 5 es 6 color amarillo \n",
      "Dado 6 es 1 color azul \n",
      "Dado 7 es 3 color verde \n"
     ]
    }
   ],
   "source": [
    "for elem in range(len(resultados)):\n",
    "    numero = np.random.randint(len(colores))\n",
    "    print 'Dado {} es {} color {} '.format(elem+1, int(resultados[elem]),colores[numero])\n",
    "    "
   ]
  },
  {
   "cell_type": "code",
   "execution_count": 201,
   "metadata": {
    "scrolled": true
   },
   "outputs": [],
   "source": [
    "# Asigna un color a cada dado e imprime el valor de cada dado con su color correspondiente. "
   ]
  },
  {
   "cell_type": "code",
   "execution_count": 210,
   "metadata": {},
   "outputs": [
    {
     "name": "stdout",
     "output_type": "stream",
     "text": [
      "cuantos dados quieres? 4\n",
      "Dado 1 es 6 color amarillo \n",
      "Dado 2 es 0 color azul \n",
      "Dado 3 es 4 color rojo \n",
      "Dado 4 es 6 color azul \n",
      "*****************************************************************************\n",
      "cuantos dados quieres? 3\n",
      "Dado 1 es 1 color rojo \n",
      "Dado 2 es 3 color verde \n",
      "Dado 3 es 5 color azul \n",
      "*****************************************************************************\n",
      "cuantos dados quieres? 1\n",
      "Dado 1 es 0 color amarillo \n",
      "*****************************************************************************\n",
      "cuantos dados quieres? 0\n",
      "*****************************************************************************\n",
      "Program terminated\n"
     ]
    }
   ],
   "source": [
    "# Run just once\n",
    "num_dados = 100\n",
    "colores = ['rojo', 'verde', 'azul', 'amarillo']\n",
    "\n",
    "# Run multiple times\n",
    "while num_dados != 0:\n",
    "    \n",
    "    num_dados = int(raw_input('cuantos dados quieres? '))\n",
    "    \n",
    "    resultados = np.random.randint(7, size=(num_dados, 1)) #Collect an array of random numbers between [0-6]\n",
    "    \n",
    "    for elem in range(len(resultados)):\n",
    "        numero = np.random.randint(len(colores))\n",
    "        print 'Dado {} es {} color {} '.format(elem+1, int(resultados[elem]),colores[numero])\n",
    "    print '*****************************************************************************'\n",
    "        \n",
    "\n",
    "print 'Program terminated'"
   ]
  },
  {
   "cell_type": "code",
   "execution_count": 211,
   "metadata": {},
   "outputs": [
    {
     "name": "stdout",
     "output_type": "stream",
     "text": [
      "Memo tiene 18 es Gay mide 1.8\n"
     ]
    }
   ],
   "source": [
    "nombre = 'Memo'\n",
    "edad = 18\n",
    "sexo = 'Gay'\n",
    "Estatura = 1.80\n",
    "\n",
    "# Imprimir en el siguiente formato:\n",
    "# nombre tiene edad es sexo y mide estatura\n",
    "print '{} tiene {} es {} mide {}'.format(nombre, edad, sexo, Estatura)"
   ]
  },
  {
   "cell_type": "code",
   "execution_count": null,
   "metadata": {},
   "outputs": [],
   "source": []
  }
 ],
 "metadata": {
  "kernelspec": {
   "display_name": "Python 2",
   "language": "python",
   "name": "python2"
  },
  "language_info": {
   "codemirror_mode": {
    "name": "ipython",
    "version": 2
   },
   "file_extension": ".py",
   "mimetype": "text/x-python",
   "name": "python",
   "nbconvert_exporter": "python",
   "pygments_lexer": "ipython2",
   "version": "2.7.12"
  }
 },
 "nbformat": 4,
 "nbformat_minor": 2
}
